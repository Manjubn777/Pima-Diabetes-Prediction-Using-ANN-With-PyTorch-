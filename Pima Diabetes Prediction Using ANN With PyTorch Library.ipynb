{
 "cells": [
  {
   "cell_type": "markdown",
   "metadata": {},
   "source": [
    "## Pima Diabetes Prediction Using ANN With PyTorch Library"
   ]
  },
  {
   "cell_type": "code",
   "execution_count": 1,
   "metadata": {},
   "outputs": [],
   "source": [
    "import pandas as pd\n",
    "import numpy as np\n",
    "import torch"
   ]
  },
  {
   "cell_type": "code",
   "execution_count": 2,
   "metadata": {},
   "outputs": [],
   "source": [
    "df=pd.read_csv(\"diabetes.csv\")"
   ]
  },
  {
   "cell_type": "code",
   "execution_count": 3,
   "metadata": {},
   "outputs": [
    {
     "data": {
      "text/html": [
       "<div>\n",
       "<style scoped>\n",
       "    .dataframe tbody tr th:only-of-type {\n",
       "        vertical-align: middle;\n",
       "    }\n",
       "\n",
       "    .dataframe tbody tr th {\n",
       "        vertical-align: top;\n",
       "    }\n",
       "\n",
       "    .dataframe thead th {\n",
       "        text-align: right;\n",
       "    }\n",
       "</style>\n",
       "<table border=\"1\" class=\"dataframe\">\n",
       "  <thead>\n",
       "    <tr style=\"text-align: right;\">\n",
       "      <th></th>\n",
       "      <th>Pregnancies</th>\n",
       "      <th>Glucose</th>\n",
       "      <th>BloodPressure</th>\n",
       "      <th>SkinThickness</th>\n",
       "      <th>Insulin</th>\n",
       "      <th>BMI</th>\n",
       "      <th>DiabetesPedigreeFunction</th>\n",
       "      <th>Age</th>\n",
       "      <th>Outcome</th>\n",
       "    </tr>\n",
       "  </thead>\n",
       "  <tbody>\n",
       "    <tr>\n",
       "      <th>0</th>\n",
       "      <td>6</td>\n",
       "      <td>148</td>\n",
       "      <td>72</td>\n",
       "      <td>35</td>\n",
       "      <td>0</td>\n",
       "      <td>33.6</td>\n",
       "      <td>0.627</td>\n",
       "      <td>50</td>\n",
       "      <td>1</td>\n",
       "    </tr>\n",
       "    <tr>\n",
       "      <th>1</th>\n",
       "      <td>1</td>\n",
       "      <td>85</td>\n",
       "      <td>66</td>\n",
       "      <td>29</td>\n",
       "      <td>0</td>\n",
       "      <td>26.6</td>\n",
       "      <td>0.351</td>\n",
       "      <td>31</td>\n",
       "      <td>0</td>\n",
       "    </tr>\n",
       "    <tr>\n",
       "      <th>2</th>\n",
       "      <td>8</td>\n",
       "      <td>183</td>\n",
       "      <td>64</td>\n",
       "      <td>0</td>\n",
       "      <td>0</td>\n",
       "      <td>23.3</td>\n",
       "      <td>0.672</td>\n",
       "      <td>32</td>\n",
       "      <td>1</td>\n",
       "    </tr>\n",
       "    <tr>\n",
       "      <th>3</th>\n",
       "      <td>1</td>\n",
       "      <td>89</td>\n",
       "      <td>66</td>\n",
       "      <td>23</td>\n",
       "      <td>94</td>\n",
       "      <td>28.1</td>\n",
       "      <td>0.167</td>\n",
       "      <td>21</td>\n",
       "      <td>0</td>\n",
       "    </tr>\n",
       "    <tr>\n",
       "      <th>4</th>\n",
       "      <td>0</td>\n",
       "      <td>137</td>\n",
       "      <td>40</td>\n",
       "      <td>35</td>\n",
       "      <td>168</td>\n",
       "      <td>43.1</td>\n",
       "      <td>2.288</td>\n",
       "      <td>33</td>\n",
       "      <td>1</td>\n",
       "    </tr>\n",
       "  </tbody>\n",
       "</table>\n",
       "</div>"
      ],
      "text/plain": [
       "   Pregnancies  Glucose  BloodPressure  SkinThickness  Insulin   BMI  \\\n",
       "0            6      148             72             35        0  33.6   \n",
       "1            1       85             66             29        0  26.6   \n",
       "2            8      183             64              0        0  23.3   \n",
       "3            1       89             66             23       94  28.1   \n",
       "4            0      137             40             35      168  43.1   \n",
       "\n",
       "   DiabetesPedigreeFunction  Age  Outcome  \n",
       "0                     0.627   50        1  \n",
       "1                     0.351   31        0  \n",
       "2                     0.672   32        1  \n",
       "3                     0.167   21        0  \n",
       "4                     2.288   33        1  "
      ]
     },
     "execution_count": 3,
     "metadata": {},
     "output_type": "execute_result"
    }
   ],
   "source": [
    "http://localhost:8888/notebooks/AI_course/Krish%20naik%20playlist/Diabetes%20Prediction%20Pima%20indians%20diabetes%20database/Pima%20Diabetes%20Prediction%20Using%20ANN%20With%20PyTorch%20Library.ipynb#Pima-Diabetes-Prediction-Using-ANN-With-PyTorch-Librarydf.head()"
   ]
  },
  {
   "cell_type": "code",
   "execution_count": 4,
   "metadata": {},
   "outputs": [
    {
     "data": {
      "text/plain": [
       "Pregnancies                 0\n",
       "Glucose                     0\n",
       "BloodPressure               0\n",
       "SkinThickness               0\n",
       "Insulin                     0\n",
       "BMI                         0\n",
       "DiabetesPedigreeFunction    0\n",
       "Age                         0\n",
       "Outcome                     0\n",
       "dtype: int64"
      ]
     },
     "execution_count": 4,
     "metadata": {},
     "output_type": "execute_result"
    }
   ],
   "source": [
    "df.isnull().sum()"
   ]
  },
  {
   "cell_type": "code",
   "execution_count": 5,
   "metadata": {},
   "outputs": [],
   "source": [
    "import seaborn as sns\n"
   ]
  },
  {
   "cell_type": "code",
   "execution_count": 6,
   "metadata": {},
   "outputs": [],
   "source": [
    "#df['Outcome']= np.where(df['Outcome']==1, \"Diabetic\", \"No diabetic\")\n",
    "#df.head()"
   ]
  },
  {
   "cell_type": "code",
   "execution_count": 7,
   "metadata": {},
   "outputs": [
    {
     "data": {
      "text/html": [
       "<div>\n",
       "<style scoped>\n",
       "    .dataframe tbody tr th:only-of-type {\n",
       "        vertical-align: middle;\n",
       "    }\n",
       "\n",
       "    .dataframe tbody tr th {\n",
       "        vertical-align: top;\n",
       "    }\n",
       "\n",
       "    .dataframe thead th {\n",
       "        text-align: right;\n",
       "    }\n",
       "</style>\n",
       "<table border=\"1\" class=\"dataframe\">\n",
       "  <thead>\n",
       "    <tr style=\"text-align: right;\">\n",
       "      <th></th>\n",
       "      <th>Pregnancies</th>\n",
       "      <th>Glucose</th>\n",
       "      <th>BloodPressure</th>\n",
       "      <th>SkinThickness</th>\n",
       "      <th>Insulin</th>\n",
       "      <th>BMI</th>\n",
       "      <th>DiabetesPedigreeFunction</th>\n",
       "      <th>Age</th>\n",
       "      <th>Outcome</th>\n",
       "    </tr>\n",
       "  </thead>\n",
       "  <tbody>\n",
       "    <tr>\n",
       "      <th>0</th>\n",
       "      <td>6</td>\n",
       "      <td>148</td>\n",
       "      <td>72</td>\n",
       "      <td>35</td>\n",
       "      <td>0</td>\n",
       "      <td>33.6</td>\n",
       "      <td>0.627</td>\n",
       "      <td>50</td>\n",
       "      <td>1</td>\n",
       "    </tr>\n",
       "    <tr>\n",
       "      <th>1</th>\n",
       "      <td>1</td>\n",
       "      <td>85</td>\n",
       "      <td>66</td>\n",
       "      <td>29</td>\n",
       "      <td>0</td>\n",
       "      <td>26.6</td>\n",
       "      <td>0.351</td>\n",
       "      <td>31</td>\n",
       "      <td>0</td>\n",
       "    </tr>\n",
       "    <tr>\n",
       "      <th>2</th>\n",
       "      <td>8</td>\n",
       "      <td>183</td>\n",
       "      <td>64</td>\n",
       "      <td>0</td>\n",
       "      <td>0</td>\n",
       "      <td>23.3</td>\n",
       "      <td>0.672</td>\n",
       "      <td>32</td>\n",
       "      <td>1</td>\n",
       "    </tr>\n",
       "    <tr>\n",
       "      <th>3</th>\n",
       "      <td>1</td>\n",
       "      <td>89</td>\n",
       "      <td>66</td>\n",
       "      <td>23</td>\n",
       "      <td>94</td>\n",
       "      <td>28.1</td>\n",
       "      <td>0.167</td>\n",
       "      <td>21</td>\n",
       "      <td>0</td>\n",
       "    </tr>\n",
       "    <tr>\n",
       "      <th>4</th>\n",
       "      <td>0</td>\n",
       "      <td>137</td>\n",
       "      <td>40</td>\n",
       "      <td>35</td>\n",
       "      <td>168</td>\n",
       "      <td>43.1</td>\n",
       "      <td>2.288</td>\n",
       "      <td>33</td>\n",
       "      <td>1</td>\n",
       "    </tr>\n",
       "  </tbody>\n",
       "</table>\n",
       "</div>"
      ],
      "text/plain": [
       "   Pregnancies  Glucose  BloodPressure  SkinThickness  Insulin   BMI  \\\n",
       "0            6      148             72             35        0  33.6   \n",
       "1            1       85             66             29        0  26.6   \n",
       "2            8      183             64              0        0  23.3   \n",
       "3            1       89             66             23       94  28.1   \n",
       "4            0      137             40             35      168  43.1   \n",
       "\n",
       "   DiabetesPedigreeFunction  Age  Outcome  \n",
       "0                     0.627   50        1  \n",
       "1                     0.351   31        0  \n",
       "2                     0.672   32        1  \n",
       "3                     0.167   21        0  \n",
       "4                     2.288   33        1  "
      ]
     },
     "execution_count": 7,
     "metadata": {},
     "output_type": "execute_result"
    }
   ],
   "source": [
    "df=pd.read_csv(\"diabetes.csv\")\n",
    "df.head()"
   ]
  },
  {
   "cell_type": "markdown",
   "metadata": {},
   "source": [
    "## creating model"
   ]
  },
  {
   "cell_type": "code",
   "execution_count": 8,
   "metadata": {},
   "outputs": [],
   "source": [
    "\n",
    "X=df.drop('Outcome',axis=1).values### independent features\n",
    "y=df['Outcome'].values###dependent features"
   ]
  },
  {
   "cell_type": "code",
   "execution_count": 9,
   "metadata": {},
   "outputs": [],
   "source": [
    "import torch\n",
    "import torch.nn as nn\n",
    "import torch.nn.functional as F"
   ]
  },
  {
   "cell_type": "code",
   "execution_count": 10,
   "metadata": {},
   "outputs": [],
   "source": [
    "\n",
    "from sklearn.model_selection import train_test_split\n",
    "\n",
    "X_train,X_test,y_train,y_test=train_test_split(X,y,test_size=0.2,random_state=0)"
   ]
  },
  {
   "cell_type": "code",
   "execution_count": 11,
   "metadata": {},
   "outputs": [],
   "source": [
    "##### Creating Tensors\n",
    "X_train=torch.FloatTensor(X_train)\n",
    "X_test=torch.FloatTensor(X_test)\n",
    "y_train=torch.LongTensor(y_train)\n",
    "y_test=torch.LongTensor(y_test)"
   ]
  },
  {
   "cell_type": "code",
   "execution_count": 12,
   "metadata": {},
   "outputs": [
    {
     "data": {
      "text/plain": [
       "(768, 9)"
      ]
     },
     "execution_count": 12,
     "metadata": {},
     "output_type": "execute_result"
    }
   ],
   "source": [
    "df.shape"
   ]
  },
  {
   "cell_type": "code",
   "execution_count": 13,
   "metadata": {},
   "outputs": [],
   "source": [
    "\n",
    "#### Creating Modelwith Pytorch\n",
    "\n",
    "class ANN_Model(nn.Module):\n",
    "    def __init__(self,input_features=8,hidden1=20,hidden2=20,out_features=2):\n",
    "        super().__init__()\n",
    "        self.f_connected1=nn.Linear(input_features,hidden1)\n",
    "        self.f_connected2=nn.Linear(hidden1,hidden2)\n",
    "        self.out=nn.Linear(hidden2,out_features)\n",
    "    def forward(self,x):\n",
    "        x=F.relu(self.f_connected1(x))\n",
    "        x=F.relu(self.f_connected2(x))\n",
    "        x=self.out(x)\n",
    "        return x"
   ]
  },
  {
   "cell_type": "code",
   "execution_count": 14,
   "metadata": {},
   "outputs": [],
   "source": [
    "\n",
    "####instantiate my ANN_model\n",
    "torch.manual_seed(20)\n",
    "model=ANN_Model()"
   ]
  },
  {
   "cell_type": "code",
   "execution_count": 15,
   "metadata": {},
   "outputs": [
    {
     "data": {
      "text/plain": [
       "<bound method Module.parameters of ANN_Model(\n",
       "  (f_connected1): Linear(in_features=8, out_features=20, bias=True)\n",
       "  (f_connected2): Linear(in_features=20, out_features=20, bias=True)\n",
       "  (out): Linear(in_features=20, out_features=2, bias=True)\n",
       ")>"
      ]
     },
     "execution_count": 15,
     "metadata": {},
     "output_type": "execute_result"
    }
   ],
   "source": [
    "\n",
    "model.parameters"
   ]
  },
  {
   "cell_type": "code",
   "execution_count": 16,
   "metadata": {},
   "outputs": [],
   "source": [
    "###Backward Propogation-- Define the loss_function,define the optimizer\n",
    "loss_function=nn.CrossEntropyLoss()\n",
    "optimizer=torch.optim.Adam(model.parameters(),lr=0.01)"
   ]
  },
  {
   "cell_type": "code",
   "execution_count": 17,
   "metadata": {},
   "outputs": [
    {
     "name": "stdout",
     "output_type": "stream",
     "text": [
      "Epoch number: 1 and the loss : 3.457212209701538\n",
      "Epoch number: 11 and the loss : 0.8019211292266846\n",
      "Epoch number: 21 and the loss : 0.6090322732925415\n",
      "Epoch number: 31 and the loss : 0.5917771458625793\n",
      "Epoch number: 41 and the loss : 0.5679708123207092\n",
      "Epoch number: 51 and the loss : 0.5529040694236755\n",
      "Epoch number: 61 and the loss : 0.5410095453262329\n",
      "Epoch number: 71 and the loss : 0.5310391783714294\n",
      "Epoch number: 81 and the loss : 0.5220361351966858\n",
      "Epoch number: 91 and the loss : 0.5135969519615173\n",
      "Epoch number: 101 and the loss : 0.5061253905296326\n",
      "Epoch number: 111 and the loss : 0.4983411729335785\n",
      "Epoch number: 121 and the loss : 0.49605482816696167\n",
      "Epoch number: 131 and the loss : 0.4828636944293976\n",
      "Epoch number: 141 and the loss : 0.4756038784980774\n",
      "Epoch number: 151 and the loss : 0.48334670066833496\n",
      "Epoch number: 161 and the loss : 0.48827359080314636\n",
      "Epoch number: 171 and the loss : 0.46933713555336\n",
      "Epoch number: 181 and the loss : 0.4662608206272125\n",
      "Epoch number: 191 and the loss : 0.4559760093688965\n",
      "Epoch number: 201 and the loss : 0.4466375708580017\n",
      "Epoch number: 211 and the loss : 0.43963807821273804\n",
      "Epoch number: 221 and the loss : 0.43641966581344604\n",
      "Epoch number: 231 and the loss : 0.4408113658428192\n",
      "Epoch number: 241 and the loss : 0.42753860354423523\n",
      "Epoch number: 251 and the loss : 0.42174026370048523\n",
      "Epoch number: 261 and the loss : 0.4312388300895691\n",
      "Epoch number: 271 and the loss : 0.4249025881290436\n",
      "Epoch number: 281 and the loss : 0.41047030687332153\n",
      "Epoch number: 291 and the loss : 0.42991235852241516\n",
      "Epoch number: 301 and the loss : 0.40727418661117554\n",
      "Epoch number: 311 and the loss : 0.41343629360198975\n",
      "Epoch number: 321 and the loss : 0.40218353271484375\n",
      "Epoch number: 331 and the loss : 0.3914094567298889\n",
      "Epoch number: 341 and the loss : 0.4932965338230133\n",
      "Epoch number: 351 and the loss : 0.3989201784133911\n",
      "Epoch number: 361 and the loss : 0.403612345457077\n",
      "Epoch number: 371 and the loss : 0.3888621926307678\n",
      "Epoch number: 381 and the loss : 0.3849172294139862\n",
      "Epoch number: 391 and the loss : 0.37841513752937317\n",
      "Epoch number: 401 and the loss : 0.37502479553222656\n",
      "Epoch number: 411 and the loss : 0.3718285858631134\n",
      "Epoch number: 421 and the loss : 0.3691188395023346\n",
      "Epoch number: 431 and the loss : 0.4410242438316345\n",
      "Epoch number: 441 and the loss : 0.42406347393989563\n",
      "Epoch number: 451 and the loss : 0.3820430636405945\n",
      "Epoch number: 461 and the loss : 0.3667147159576416\n",
      "Epoch number: 471 and the loss : 0.3596440553665161\n",
      "Epoch number: 481 and the loss : 0.355563223361969\n",
      "Epoch number: 491 and the loss : 0.35206252336502075\n"
     ]
    }
   ],
   "source": [
    "\n",
    "epochs=500\n",
    "final_losses=[]\n",
    "for i in range(epochs):\n",
    "    i=i+1\n",
    "    y_pred=model.forward(X_train)\n",
    "    loss=loss_function(y_pred,y_train)\n",
    "    final_losses.append(loss)\n",
    "    if i%10==1:\n",
    "        print(\"Epoch number: {} and the loss : {}\".format(i,loss.item()))\n",
    "    optimizer.zero_grad()\n",
    "    loss.backward()\n",
    "    optimizer.step()"
   ]
  },
  {
   "cell_type": "code",
   "execution_count": 18,
   "metadata": {},
   "outputs": [],
   "source": [
    "import matplotlib.pyplot as plt\n",
    "%matplotlib inline"
   ]
  },
  {
   "cell_type": "code",
   "execution_count": 19,
   "metadata": {},
   "outputs": [
    {
     "data": {
      "text/plain": [
       "Text(0.5, 1.0, 'Epoch vs Loss')"
      ]
     },
     "execution_count": 19,
     "metadata": {},
     "output_type": "execute_result"
    },
    {
     "data": {
      "image/png": "[encoded data removed]",
      "text/plain": [
       "<Figure size 432x288 with 1 Axes>"
      ]
     },
     "metadata": {
      "needs_background": "light"
     },
     "output_type": "display_data"
    }
   ],
   "source": [
    "plt.plot(range(epochs), final_losses)\n",
    "plt.ylabel('Loss')\n",
    "plt.xlabel('Epoch')\n",
    "plt.title(\"Epoch vs Loss\")"
   ]
  },
  {
   "cell_type": "code",
   "execution_count": 20,
   "metadata": {},
   "outputs": [
    {
     "name": "stdout",
     "output_type": "stream",
     "text": [
      "1\n",
      "0\n",
      "0\n",
      "1\n",
      "0\n",
      "0\n",
      "1\n",
      "1\n",
      "1\n",
      "0\n",
      "1\n",
      "1\n",
      "0\n",
      "1\n",
      "0\n",
      "0\n",
      "1\n",
      "0\n",
      "0\n",
      "0\n",
      "1\n",
      "0\n",
      "0\n",
      "0\n",
      "0\n",
      "1\n",
      "0\n",
      "1\n",
      "0\n",
      "0\n",
      "0\n",
      "0\n",
      "0\n",
      "1\n",
      "0\n",
      "1\n",
      "1\n",
      "0\n",
      "0\n",
      "1\n",
      "0\n",
      "0\n",
      "0\n",
      "1\n",
      "1\n",
      "0\n",
      "0\n",
      "0\n",
      "0\n",
      "0\n",
      "0\n",
      "0\n",
      "1\n",
      "0\n",
      "0\n",
      "0\n",
      "0\n",
      "0\n",
      "0\n",
      "0\n",
      "1\n",
      "0\n",
      "0\n",
      "1\n",
      "1\n",
      "1\n",
      "1\n",
      "0\n",
      "0\n",
      "0\n",
      "0\n",
      "0\n",
      "0\n",
      "1\n",
      "1\n",
      "0\n",
      "0\n",
      "1\n",
      "0\n",
      "0\n",
      "1\n",
      "1\n",
      "0\n",
      "0\n",
      "0\n",
      "0\n",
      "0\n",
      "0\n",
      "1\n",
      "0\n",
      "0\n",
      "0\n",
      "0\n",
      "0\n",
      "1\n",
      "0\n",
      "0\n",
      "0\n",
      "0\n",
      "1\n",
      "0\n",
      "0\n",
      "0\n",
      "0\n",
      "1\n",
      "1\n",
      "0\n",
      "0\n",
      "0\n",
      "1\n",
      "0\n",
      "1\n",
      "1\n",
      "0\n",
      "0\n",
      "1\n",
      "0\n",
      "1\n",
      "0\n",
      "1\n",
      "0\n",
      "0\n",
      "0\n",
      "0\n",
      "0\n",
      "0\n",
      "0\n",
      "0\n",
      "0\n",
      "0\n",
      "1\n",
      "0\n",
      "0\n",
      "0\n",
      "0\n",
      "1\n",
      "1\n",
      "0\n",
      "1\n",
      "0\n",
      "0\n",
      "1\n",
      "0\n",
      "0\n",
      "0\n",
      "0\n",
      "0\n",
      "0\n",
      "0\n",
      "1\n",
      "0\n",
      "0\n",
      "0\n",
      "0\n"
     ]
    }
   ],
   "source": [
    "##predictions\n",
    "\n",
    "predictions=[]\n",
    "with torch.no_grad():  #to avoid gradeients\n",
    "    for i, data in enumerate(X_test):\n",
    "        y_pred=model(data)\n",
    "        #print(model(data))\n",
    "        predictions.append(y_pred.argmax().item())   #index 1 means diabetic person, 0-- non diabetic\n",
    "        print(y_pred.argmax().item())"
   ]
  },
  {
   "cell_type": "code",
   "execution_count": 21,
   "metadata": {},
   "outputs": [
    {
     "data": {
      "text/plain": [
       "array([[91, 16],\n",
       "       [17, 30]], dtype=int64)"
      ]
     },
     "execution_count": 21,
     "metadata": {},
     "output_type": "execute_result"
    }
   ],
   "source": [
    "# comparison with x_test\n",
    "\n",
    "from sklearn.metrics import confusion_matrix\n",
    "cm=confusion_matrix(y_test, predictions)\n",
    "cm"
   ]
  },
  {
   "cell_type": "code",
   "execution_count": 22,
   "metadata": {},
   "outputs": [
    {
     "data": {
      "text/plain": [
       "Text(69.0, 0.5, 'Predicted')"
      ]
     },
     "execution_count": 22,
     "metadata": {},
     "output_type": "execute_result"
    },
    {
     "data": {
      "image/png": "[encoded data removed]",
      "text/plain": [
       "<Figure size 720x432 with 2 Axes>"
      ]
     },
     "metadata": {
      "needs_background": "light"
     },
     "output_type": "display_data"
    }
   ],
   "source": [
    "plt.figure(figsize=(10,6))\n",
    "sns.heatmap(cm, annot=True)\n",
    "plt.xlabel(\"Actual Values\")\n",
    "plt.ylabel(\"Predicted\")"
   ]
  },
  {
   "cell_type": "code",
   "execution_count": 23,
   "metadata": {},
   "outputs": [
    {
     "data": {
      "text/plain": [
       "0.7857142857142857"
      ]
     },
     "execution_count": 23,
     "metadata": {},
     "output_type": "execute_result"
    }
   ],
   "source": [
    "from sklearn.metrics import accuracy_score\n",
    "score= accuracy_score(y_test, predictions)\n",
    "score"
   ]
  },
  {
   "cell_type": "code",
   "execution_count": 24,
   "metadata": {},
   "outputs": [],
   "source": [
    "##to save model\n",
    "torch.save(model, 'diabetes.pt')"
   ]
  },
  {
   "cell_type": "code",
   "execution_count": 25,
   "metadata": {},
   "outputs": [],
   "source": [
    "model= torch.load(\"diabetes.pt\")"
   ]
  },
  {
   "cell_type": "code",
   "execution_count": 26,
   "metadata": {},
   "outputs": [
    {
     "data": {
      "text/plain": [
       "ANN_Model(\n",
       "  (f_connected1): Linear(in_features=8, out_features=20, bias=True)\n",
       "  (f_connected2): Linear(in_features=20, out_features=20, bias=True)\n",
       "  (out): Linear(in_features=20, out_features=2, bias=True)\n",
       ")"
      ]
     },
     "execution_count": 26,
     "metadata": {},
     "output_type": "execute_result"
    }
   ],
   "source": [
    "model.eval()"
   ]
  },
  {
   "cell_type": "code",
   "execution_count": 27,
   "metadata": {},
   "outputs": [
    {
     "data": {
      "text/plain": [
       "[6.0, 148.0, 72.0, 35.0, 0.0, 33.6, 0.627, 50.0]"
      ]
     },
     "execution_count": 27,
     "metadata": {},
     "output_type": "execute_result"
    }
   ],
   "source": [
    "## predictions of new data points\n",
    "list(df.iloc[0, :-1])"
   ]
  },
  {
   "cell_type": "code",
   "execution_count": 28,
   "metadata": {},
   "outputs": [],
   "source": [
    "lst1=[377.0, 368.0, 72.0, 35.0, 78.0, 33.6, 70.627, 50.0]"
   ]
  },
  {
   "cell_type": "code",
   "execution_count": 29,
   "metadata": {},
   "outputs": [],
   "source": [
    "new_data=torch.tensor(lst1)"
   ]
  },
  {
   "cell_type": "code",
   "execution_count": 30,
   "metadata": {},
   "outputs": [
    {
     "name": "stdout",
     "output_type": "stream",
     "text": [
      "tensor([ 26.5484, -33.8844])\n",
      "tensor([ 26.5484, -33.8844])\n",
      "tensor([ 26.5484, -33.8844])\n",
      "tensor([ 26.5484, -33.8844])\n",
      "tensor([ 26.5484, -33.8844])\n",
      "tensor([ 26.5484, -33.8844])\n",
      "tensor([ 26.5484, -33.8844])\n",
      "tensor([ 26.5484, -33.8844])\n",
      "tensor([ 26.5484, -33.8844])\n",
      "tensor([ 26.5484, -33.8844])\n",
      "tensor([ 26.5484, -33.8844])\n",
      "tensor([ 26.5484, -33.8844])\n",
      "tensor([ 26.5484, -33.8844])\n",
      "tensor([ 26.5484, -33.8844])\n",
      "tensor([ 26.5484, -33.8844])\n",
      "tensor([ 26.5484, -33.8844])\n",
      "tensor([ 26.5484, -33.8844])\n",
      "tensor([ 26.5484, -33.8844])\n",
      "tensor([ 26.5484, -33.8844])\n",
      "tensor([ 26.5484, -33.8844])\n",
      "tensor([ 26.5484, -33.8844])\n",
      "tensor([ 26.5484, -33.8844])\n",
      "tensor([ 26.5484, -33.8844])\n",
      "tensor([ 26.5484, -33.8844])\n",
      "tensor([ 26.5484, -33.8844])\n",
      "tensor([ 26.5484, -33.8844])\n",
      "tensor([ 26.5484, -33.8844])\n",
      "tensor([ 26.5484, -33.8844])\n",
      "tensor([ 26.5484, -33.8844])\n",
      "tensor([ 26.5484, -33.8844])\n",
      "tensor([ 26.5484, -33.8844])\n",
      "tensor([ 26.5484, -33.8844])\n",
      "tensor([ 26.5484, -33.8844])\n",
      "tensor([ 26.5484, -33.8844])\n",
      "tensor([ 26.5484, -33.8844])\n",
      "tensor([ 26.5484, -33.8844])\n",
      "tensor([ 26.5484, -33.8844])\n",
      "tensor([ 26.5484, -33.8844])\n",
      "tensor([ 26.5484, -33.8844])\n",
      "tensor([ 26.5484, -33.8844])\n",
      "tensor([ 26.5484, -33.8844])\n",
      "tensor([ 26.5484, -33.8844])\n",
      "tensor([ 26.5484, -33.8844])\n",
      "tensor([ 26.5484, -33.8844])\n",
      "tensor([ 26.5484, -33.8844])\n",
      "tensor([ 26.5484, -33.8844])\n",
      "tensor([ 26.5484, -33.8844])\n",
      "tensor([ 26.5484, -33.8844])\n",
      "tensor([ 26.5484, -33.8844])\n",
      "tensor([ 26.5484, -33.8844])\n",
      "tensor([ 26.5484, -33.8844])\n",
      "tensor([ 26.5484, -33.8844])\n",
      "tensor([ 26.5484, -33.8844])\n",
      "tensor([ 26.5484, -33.8844])\n",
      "tensor([ 26.5484, -33.8844])\n",
      "tensor([ 26.5484, -33.8844])\n",
      "tensor([ 26.5484, -33.8844])\n",
      "tensor([ 26.5484, -33.8844])\n",
      "tensor([ 26.5484, -33.8844])\n",
      "tensor([ 26.5484, -33.8844])\n",
      "tensor([ 26.5484, -33.8844])\n",
      "tensor([ 26.5484, -33.8844])\n",
      "tensor([ 26.5484, -33.8844])\n",
      "tensor([ 26.5484, -33.8844])\n",
      "tensor([ 26.5484, -33.8844])\n",
      "tensor([ 26.5484, -33.8844])\n",
      "tensor([ 26.5484, -33.8844])\n",
      "tensor([ 26.5484, -33.8844])\n",
      "tensor([ 26.5484, -33.8844])\n",
      "tensor([ 26.5484, -33.8844])\n",
      "tensor([ 26.5484, -33.8844])\n",
      "tensor([ 26.5484, -33.8844])\n",
      "tensor([ 26.5484, -33.8844])\n",
      "tensor([ 26.5484, -33.8844])\n",
      "tensor([ 26.5484, -33.8844])\n",
      "tensor([ 26.5484, -33.8844])\n",
      "tensor([ 26.5484, -33.8844])\n",
      "tensor([ 26.5484, -33.8844])\n",
      "tensor([ 26.5484, -33.8844])\n",
      "tensor([ 26.5484, -33.8844])\n",
      "tensor([ 26.5484, -33.8844])\n",
      "tensor([ 26.5484, -33.8844])\n",
      "tensor([ 26.5484, -33.8844])\n",
      "tensor([ 26.5484, -33.8844])\n",
      "tensor([ 26.5484, -33.8844])\n",
      "tensor([ 26.5484, -33.8844])\n",
      "tensor([ 26.5484, -33.8844])\n",
      "tensor([ 26.5484, -33.8844])\n",
      "tensor([ 26.5484, -33.8844])\n",
      "tensor([ 26.5484, -33.8844])\n",
      "tensor([ 26.5484, -33.8844])\n",
      "tensor([ 26.5484, -33.8844])\n",
      "tensor([ 26.5484, -33.8844])\n",
      "tensor([ 26.5484, -33.8844])\n",
      "tensor([ 26.5484, -33.8844])\n",
      "tensor([ 26.5484, -33.8844])\n",
      "tensor([ 26.5484, -33.8844])\n",
      "tensor([ 26.5484, -33.8844])\n",
      "tensor([ 26.5484, -33.8844])\n",
      "tensor([ 26.5484, -33.8844])\n",
      "tensor([ 26.5484, -33.8844])\n",
      "tensor([ 26.5484, -33.8844])\n",
      "tensor([ 26.5484, -33.8844])\n",
      "tensor([ 26.5484, -33.8844])\n",
      "tensor([ 26.5484, -33.8844])\n",
      "tensor([ 26.5484, -33.8844])\n",
      "tensor([ 26.5484, -33.8844])\n",
      "tensor([ 26.5484, -33.8844])\n",
      "tensor([ 26.5484, -33.8844])\n",
      "tensor([ 26.5484, -33.8844])\n",
      "tensor([ 26.5484, -33.8844])\n",
      "tensor([ 26.5484, -33.8844])\n",
      "tensor([ 26.5484, -33.8844])\n",
      "tensor([ 26.5484, -33.8844])\n",
      "tensor([ 26.5484, -33.8844])\n",
      "tensor([ 26.5484, -33.8844])\n",
      "tensor([ 26.5484, -33.8844])\n",
      "tensor([ 26.5484, -33.8844])\n",
      "tensor([ 26.5484, -33.8844])\n",
      "tensor([ 26.5484, -33.8844])\n",
      "tensor([ 26.5484, -33.8844])\n",
      "tensor([ 26.5484, -33.8844])\n",
      "tensor([ 26.5484, -33.8844])\n",
      "tensor([ 26.5484, -33.8844])\n",
      "tensor([ 26.5484, -33.8844])\n",
      "tensor([ 26.5484, -33.8844])\n",
      "tensor([ 26.5484, -33.8844])\n",
      "tensor([ 26.5484, -33.8844])\n",
      "tensor([ 26.5484, -33.8844])\n",
      "tensor([ 26.5484, -33.8844])\n",
      "tensor([ 26.5484, -33.8844])\n",
      "tensor([ 26.5484, -33.8844])\n",
      "tensor([ 26.5484, -33.8844])\n",
      "tensor([ 26.5484, -33.8844])\n",
      "tensor([ 26.5484, -33.8844])\n",
      "tensor([ 26.5484, -33.8844])\n",
      "tensor([ 26.5484, -33.8844])\n",
      "tensor([ 26.5484, -33.8844])\n",
      "tensor([ 26.5484, -33.8844])\n",
      "tensor([ 26.5484, -33.8844])\n",
      "tensor([ 26.5484, -33.8844])\n",
      "tensor([ 26.5484, -33.8844])\n",
      "tensor([ 26.5484, -33.8844])\n",
      "tensor([ 26.5484, -33.8844])\n",
      "tensor([ 26.5484, -33.8844])\n",
      "tensor([ 26.5484, -33.8844])\n",
      "tensor([ 26.5484, -33.8844])\n",
      "tensor([ 26.5484, -33.8844])\n",
      "tensor([ 26.5484, -33.8844])\n",
      "tensor([ 26.5484, -33.8844])\n",
      "tensor([ 26.5484, -33.8844])\n",
      "tensor([ 26.5484, -33.8844])\n",
      "tensor([ 26.5484, -33.8844])\n",
      "tensor([ 26.5484, -33.8844])\n"
     ]
    }
   ],
   "source": [
    "##predcting for new datapoints\n",
    "\n",
    "with torch.no_grad():  #to avoid gradeients\n",
    "    for i, data in enumerate(X_test):\n",
    "        print(model(new_data))\n",
    "        "
   ]
  },
  {
   "cell_type": "code",
   "execution_count": null,
   "metadata": {},
   "outputs": [],
   "source": []
  }
 ],
 "metadata": {
  "kernelspec": {
   "display_name": "Python 3",
   "language": "python",
   "name": "python3"
  },
  "language_info": {
   "codemirror_mode": {
    "name": "ipython",
    "version": 3
   },
   "file_extension": ".py",
   "mimetype": "text/x-python",
   "name": "python",
   "nbconvert_exporter": "python",
   "pygments_lexer": "ipython3",
   "version": "3.8.3"
  }
 },
 "nbformat": 4,
 "nbformat_minor": 4
}
